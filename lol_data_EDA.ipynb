{
 "cells": [
  {
   "cell_type": "code",
   "execution_count": 183,
   "metadata": {},
   "outputs": [],
   "source": [
    "import pandas as pd\n",
    "import pickle\n",
    "import matplotlib.pyplot as plt\n",
    "import numpy as np\n",
    "import sys\n",
    "import os\n",
    "from pandas.io.json import json_normalize\n",
    "import seaborn as sns\n",
    "import warnings\n",
    "import statsmodels.api as sm\n",
    "\n",
    "warnings.simplefilter(action='ignore', category=Warning)"
   ]
  },
  {
   "cell_type": "code",
   "execution_count": 7,
   "metadata": {},
   "outputs": [
    {
     "data": {
      "text/html": [
       "<div>\n",
       "<style scoped>\n",
       "    .dataframe tbody tr th:only-of-type {\n",
       "        vertical-align: middle;\n",
       "    }\n",
       "\n",
       "    .dataframe tbody tr th {\n",
       "        vertical-align: top;\n",
       "    }\n",
       "\n",
       "    .dataframe thead th {\n",
       "        text-align: right;\n",
       "    }\n",
       "</style>\n",
       "<table border=\"1\" class=\"dataframe\">\n",
       "  <thead>\n",
       "    <tr style=\"text-align: right;\">\n",
       "      <th></th>\n",
       "      <th>gameCreation</th>\n",
       "      <th>gameDuration</th>\n",
       "      <th>gameId</th>\n",
       "      <th>gameMode</th>\n",
       "      <th>gameType</th>\n",
       "      <th>gameVersion</th>\n",
       "      <th>mapId</th>\n",
       "      <th>participantIdentities</th>\n",
       "      <th>participants</th>\n",
       "      <th>platformId</th>\n",
       "      <th>queueId</th>\n",
       "      <th>seasonId</th>\n",
       "      <th>status.message</th>\n",
       "      <th>status.status_code</th>\n",
       "      <th>teams</th>\n",
       "    </tr>\n",
       "  </thead>\n",
       "  <tbody>\n",
       "    <tr>\n",
       "      <th>0</th>\n",
       "      <td>1.585155e+12</td>\n",
       "      <td>1323.0</td>\n",
       "      <td>4247263043</td>\n",
       "      <td>CLASSIC</td>\n",
       "      <td>MATCHED_GAME</td>\n",
       "      <td>10.6.314.4405</td>\n",
       "      <td>11.0</td>\n",
       "      <td>[{'participantId': 1, 'player': {'platformId':...</td>\n",
       "      <td>[{'participantId': 1, 'teamId': 100, 'champion...</td>\n",
       "      <td>KR</td>\n",
       "      <td>420.0</td>\n",
       "      <td>13.0</td>\n",
       "      <td>NaN</td>\n",
       "      <td>NaN</td>\n",
       "      <td>[{'teamId': 100, 'win': 'Fail', 'firstBlood': ...</td>\n",
       "    </tr>\n",
       "    <tr>\n",
       "      <th>1</th>\n",
       "      <td>1.585152e+12</td>\n",
       "      <td>1317.0</td>\n",
       "      <td>4247155821</td>\n",
       "      <td>CLASSIC</td>\n",
       "      <td>MATCHED_GAME</td>\n",
       "      <td>10.6.314.4405</td>\n",
       "      <td>11.0</td>\n",
       "      <td>[{'participantId': 1, 'player': {'platformId':...</td>\n",
       "      <td>[{'participantId': 1, 'teamId': 100, 'champion...</td>\n",
       "      <td>KR</td>\n",
       "      <td>420.0</td>\n",
       "      <td>13.0</td>\n",
       "      <td>NaN</td>\n",
       "      <td>NaN</td>\n",
       "      <td>[{'teamId': 100, 'win': 'Win', 'firstBlood': F...</td>\n",
       "    </tr>\n",
       "    <tr>\n",
       "      <th>2</th>\n",
       "      <td>1.585059e+12</td>\n",
       "      <td>932.0</td>\n",
       "      <td>4243963257</td>\n",
       "      <td>CLASSIC</td>\n",
       "      <td>MATCHED_GAME</td>\n",
       "      <td>10.6.313.8894</td>\n",
       "      <td>11.0</td>\n",
       "      <td>[{'participantId': 1, 'player': {'platformId':...</td>\n",
       "      <td>[{'participantId': 1, 'teamId': 100, 'champion...</td>\n",
       "      <td>KR</td>\n",
       "      <td>420.0</td>\n",
       "      <td>13.0</td>\n",
       "      <td>NaN</td>\n",
       "      <td>NaN</td>\n",
       "      <td>[{'teamId': 100, 'win': 'Fail', 'firstBlood': ...</td>\n",
       "    </tr>\n",
       "    <tr>\n",
       "      <th>3</th>\n",
       "      <td>1.584978e+12</td>\n",
       "      <td>2098.0</td>\n",
       "      <td>4241678498</td>\n",
       "      <td>CLASSIC</td>\n",
       "      <td>MATCHED_GAME</td>\n",
       "      <td>10.6.313.8894</td>\n",
       "      <td>11.0</td>\n",
       "      <td>[{'participantId': 1, 'player': {'platformId':...</td>\n",
       "      <td>[{'participantId': 1, 'teamId': 100, 'champion...</td>\n",
       "      <td>KR</td>\n",
       "      <td>420.0</td>\n",
       "      <td>13.0</td>\n",
       "      <td>NaN</td>\n",
       "      <td>NaN</td>\n",
       "      <td>[{'teamId': 100, 'win': 'Fail', 'firstBlood': ...</td>\n",
       "    </tr>\n",
       "    <tr>\n",
       "      <th>4</th>\n",
       "      <td>1.584973e+12</td>\n",
       "      <td>2344.0</td>\n",
       "      <td>4241538868</td>\n",
       "      <td>CLASSIC</td>\n",
       "      <td>MATCHED_GAME</td>\n",
       "      <td>10.6.313.8894</td>\n",
       "      <td>11.0</td>\n",
       "      <td>[{'participantId': 1, 'player': {'platformId':...</td>\n",
       "      <td>[{'participantId': 1, 'teamId': 100, 'champion...</td>\n",
       "      <td>KR</td>\n",
       "      <td>420.0</td>\n",
       "      <td>13.0</td>\n",
       "      <td>NaN</td>\n",
       "      <td>NaN</td>\n",
       "      <td>[{'teamId': 100, 'win': 'Win', 'firstBlood': T...</td>\n",
       "    </tr>\n",
       "  </tbody>\n",
       "</table>\n",
       "</div>"
      ],
      "text/plain": [
       "   gameCreation  gameDuration      gameId gameMode      gameType  \\\n",
       "0  1.585155e+12        1323.0  4247263043  CLASSIC  MATCHED_GAME   \n",
       "1  1.585152e+12        1317.0  4247155821  CLASSIC  MATCHED_GAME   \n",
       "2  1.585059e+12         932.0  4243963257  CLASSIC  MATCHED_GAME   \n",
       "3  1.584978e+12        2098.0  4241678498  CLASSIC  MATCHED_GAME   \n",
       "4  1.584973e+12        2344.0  4241538868  CLASSIC  MATCHED_GAME   \n",
       "\n",
       "     gameVersion  mapId                              participantIdentities  \\\n",
       "0  10.6.314.4405   11.0  [{'participantId': 1, 'player': {'platformId':...   \n",
       "1  10.6.314.4405   11.0  [{'participantId': 1, 'player': {'platformId':...   \n",
       "2  10.6.313.8894   11.0  [{'participantId': 1, 'player': {'platformId':...   \n",
       "3  10.6.313.8894   11.0  [{'participantId': 1, 'player': {'platformId':...   \n",
       "4  10.6.313.8894   11.0  [{'participantId': 1, 'player': {'platformId':...   \n",
       "\n",
       "                                        participants platformId  queueId  \\\n",
       "0  [{'participantId': 1, 'teamId': 100, 'champion...         KR    420.0   \n",
       "1  [{'participantId': 1, 'teamId': 100, 'champion...         KR    420.0   \n",
       "2  [{'participantId': 1, 'teamId': 100, 'champion...         KR    420.0   \n",
       "3  [{'participantId': 1, 'teamId': 100, 'champion...         KR    420.0   \n",
       "4  [{'participantId': 1, 'teamId': 100, 'champion...         KR    420.0   \n",
       "\n",
       "   seasonId status.message  status.status_code  \\\n",
       "0      13.0            NaN                 NaN   \n",
       "1      13.0            NaN                 NaN   \n",
       "2      13.0            NaN                 NaN   \n",
       "3      13.0            NaN                 NaN   \n",
       "4      13.0            NaN                 NaN   \n",
       "\n",
       "                                               teams  \n",
       "0  [{'teamId': 100, 'win': 'Fail', 'firstBlood': ...  \n",
       "1  [{'teamId': 100, 'win': 'Win', 'firstBlood': F...  \n",
       "2  [{'teamId': 100, 'win': 'Fail', 'firstBlood': ...  \n",
       "3  [{'teamId': 100, 'win': 'Fail', 'firstBlood': ...  \n",
       "4  [{'teamId': 100, 'win': 'Win', 'firstBlood': T...  "
      ]
     },
     "execution_count": 7,
     "metadata": {},
     "output_type": "execute_result"
    }
   ],
   "source": [
    "lol_df = pd.read_pickle('./match_data_version2.pickle')\n",
    "lol_df.head()"
   ]
  },
  {
   "cell_type": "code",
   "execution_count": 3,
   "metadata": {},
   "outputs": [],
   "source": [
    "# team_a = pd.DataFrame()\n",
    "# team_b = pd.DataFrame()\n",
    "# pickle.dump(team_a, open('./team_a_dump', 'wb'))\n",
    "# pickle.dump(team_b, open('./team_b_dump', 'wb'))"
   ]
  },
  {
   "cell_type": "code",
   "execution_count": 8,
   "metadata": {},
   "outputs": [
    {
     "name": "stdout",
     "output_type": "stream",
     "text": [
      "0행 처리중\n",
      "1000행 처리중\n",
      "2000행 처리중\n",
      "3000행 처리중\n",
      "4000행 처리중\n",
      "5000행 처리중\n",
      "6000행 처리중\n",
      "7000행 처리중\n",
      "8000행 처리중\n",
      "9000행 처리중\n",
      "10000행 처리중\n",
      "11000행 처리중\n",
      "12000행 처리중\n",
      "13000행 처리중\n",
      "14000행 처리중\n",
      "15000행 처리중\n",
      "16000행 처리중\n",
      "17000행 처리중\n",
      "18000행 처리중\n",
      "19000행 처리중\n",
      "20000행 처리중\n",
      "21000행 처리중\n",
      "22000행 처리중\n",
      "23000행 처리중\n",
      "24000행 처리중\n",
      "25000행 처리중\n",
      "26000행 처리중\n",
      "27000행 처리중\n",
      "28000행 처리중\n",
      "29000행 처리중\n",
      "30000행 처리중\n",
      "31000행 처리중\n",
      "32000행 처리중\n",
      "33000행 처리중\n",
      "34000행 처리중\n",
      "35000행 처리중\n",
      "36000행 처리중\n",
      "37000행 처리중\n",
      "38000행 처리중\n",
      "39000행 처리중\n",
      "40000행 처리중\n",
      "41000행 처리중\n",
      "42000행 처리중\n",
      "43000행 처리중\n",
      "44000행 처리중\n",
      "45000행 처리중\n",
      "46000행 처리중\n",
      "47000행 처리중\n",
      "48000행 처리중\n",
      "49000행 처리중\n",
      "50000행 처리중\n",
      "51000행 처리중\n",
      "52000행 처리중\n",
      "53000행 처리중\n",
      "54000행 처리중\n",
      "55000행 처리중\n",
      "56000행 처리중\n",
      "57000행 처리중\n",
      "58000행 처리중\n",
      "59000행 처리중\n",
      "60000행 처리중\n",
      "61000행 처리중\n",
      "62000행 처리중\n",
      "63000행 처리중\n",
      "64000행 처리중\n",
      "65000행 처리중\n",
      "66000행 처리중\n",
      "67000행 처리중\n",
      "68000행 처리중\n",
      "69000행 처리중\n",
      "70000행 처리중\n",
      "71000행 처리중\n",
      "72000행 처리중\n",
      "73000행 처리중\n",
      "74000행 처리중\n",
      "75000행 처리중\n",
      "76000행 처리중\n",
      "77000행 처리중\n",
      "78000행 처리중\n",
      "79000행 처리중\n",
      "80000행 처리중\n",
      "81000행 처리중\n",
      "82000행 처리중\n",
      "83000행 처리중\n",
      "84000행 처리중\n",
      "85000행 처리중\n",
      "86000행 처리중\n",
      "87000행 처리중\n",
      "88000행 처리중\n",
      "89000행 처리중\n",
      "90000행 처리중\n",
      "91000행 처리중\n",
      "92000행 처리중\n",
      "93000행 처리중\n",
      "94000행 처리중\n",
      "95000행 처리중\n",
      "96000행 처리중\n",
      "97000행 처리중\n",
      "98000행 처리중\n",
      "99000행 처리중\n",
      "100000행 처리중\n",
      "101000행 처리중\n",
      "102000행 처리중\n",
      "103000행 처리중\n",
      "104000행 처리중\n",
      "105000행 처리중\n",
      "106000행 처리중\n",
      "107000행 처리중\n",
      "108000행 처리중\n",
      "109000행 처리중\n",
      "110000행 처리중\n",
      "111000행 처리중\n",
      "112000행 처리중\n",
      "113000행 처리중\n",
      "114000행 처리중\n",
      "115000행 처리중\n",
      "116000행 처리중\n",
      "117000행 처리중\n",
      "118000행 처리중\n",
      "119000행 처리중\n",
      "120000행 처리중\n",
      "121000행 처리중\n",
      "122000행 처리중\n",
      "123000행 처리중\n",
      "124000행 처리중\n",
      "125000행 처리중\n",
      "126000행 처리중\n",
      "127000행 처리중\n",
      "128000행 처리중\n",
      "129000행 처리중\n",
      "130000행 처리중\n",
      "131000행 처리중\n",
      "132000행 처리중\n",
      "133000행 처리중\n",
      "134000행 처리중\n",
      "135000행 처리중\n",
      "136000행 처리중\n",
      "137000행 처리중\n",
      "138000행 처리중\n",
      "139000행 처리중\n",
      "140000행 처리중\n",
      "141000행 처리중\n",
      "142000행 처리중\n",
      "143000행 처리중\n",
      "144000행 처리중\n",
      "145000행 처리중\n"
     ]
    }
   ],
   "source": [
    "#a팀 b팀 분리\n",
    "team_a_error = []\n",
    "team_b_error = []\n",
    "team_a = pd.DataFrame()\n",
    "team_b = pd.DataFrame()\n",
    "for i in range(len(lol_df)):\n",
    "    if i % 1000 == 0:\n",
    "        print(str(i)+'행 처리중')\n",
    "    try:\n",
    "        team_a = team_a.append(json_normalize(lol_df['teams'].iloc[i][0]))\n",
    "        team_b = team_b.append(json_normalize(lol_df['teams'].iloc[i][1]))\n",
    "    except:\n",
    "        team_a_error.append(i)\n",
    "        team_b_error.append(i)\n",
    "        print(str(i)+'행에서 오류')\n",
    "        pass\n",
    "    \n",
    "pickle.dump(team_a, open('./team_a_dump.pickle', 'wb'))\n",
    "pickle.dump(team_b, open('./team_b_dump.pickle', 'wb'))"
   ]
  },
  {
   "cell_type": "code",
   "execution_count": 9,
   "metadata": {},
   "outputs": [],
   "source": [
    "for i in range(len(team_a)):\n",
    "    wf_valid = team_a['win'].iloc[i]\n",
    "    \n",
    "    if team_b['win'].iloc[i] != wf_valid:\n",
    "        pass\n",
    "    else:\n",
    "        print(str(i)+'행 데이터 정합성 문제')"
   ]
  },
  {
   "cell_type": "code",
   "execution_count": 10,
   "metadata": {},
   "outputs": [],
   "source": [
    "#각 경기별 게임 시간 병합\n",
    "lol_df = lol_df.drop(index = team_a_error)\n",
    "\n",
    "team_a['gameDuration'] = lol_df['gameDuration'].tolist()\n",
    "team_b['gameDuration'] = lol_df['gameDuration'].tolist()\n",
    "\n",
    "lol_df['gameDuration'].index = range(len(lol_df))\n",
    "team_a['gameDuration'].index = range(len(team_a))\n",
    "team_b['gameDuration'].index = range(len(team_b))"
   ]
  },
  {
   "cell_type": "code",
   "execution_count": 11,
   "metadata": {},
   "outputs": [
    {
     "data": {
      "text/html": [
       "<div>\n",
       "<style scoped>\n",
       "    .dataframe tbody tr th:only-of-type {\n",
       "        vertical-align: middle;\n",
       "    }\n",
       "\n",
       "    .dataframe tbody tr th {\n",
       "        vertical-align: top;\n",
       "    }\n",
       "\n",
       "    .dataframe thead th {\n",
       "        text-align: right;\n",
       "    }\n",
       "</style>\n",
       "<table border=\"1\" class=\"dataframe\">\n",
       "  <thead>\n",
       "    <tr style=\"text-align: right;\">\n",
       "      <th></th>\n",
       "      <th>teamId</th>\n",
       "      <th>win</th>\n",
       "      <th>firstBlood</th>\n",
       "      <th>firstTower</th>\n",
       "      <th>firstInhibitor</th>\n",
       "      <th>firstBaron</th>\n",
       "      <th>firstDragon</th>\n",
       "      <th>firstRiftHerald</th>\n",
       "      <th>towerKills</th>\n",
       "      <th>inhibitorKills</th>\n",
       "      <th>baronKills</th>\n",
       "      <th>dragonKills</th>\n",
       "      <th>vilemawKills</th>\n",
       "      <th>riftHeraldKills</th>\n",
       "      <th>dominionVictoryScore</th>\n",
       "      <th>bans</th>\n",
       "      <th>gameDuration</th>\n",
       "    </tr>\n",
       "  </thead>\n",
       "  <tbody>\n",
       "    <tr>\n",
       "      <th>0</th>\n",
       "      <td>100</td>\n",
       "      <td>Fail</td>\n",
       "      <td>True</td>\n",
       "      <td>False</td>\n",
       "      <td>False</td>\n",
       "      <td>False</td>\n",
       "      <td>False</td>\n",
       "      <td>False</td>\n",
       "      <td>0</td>\n",
       "      <td>0</td>\n",
       "      <td>0</td>\n",
       "      <td>0</td>\n",
       "      <td>0</td>\n",
       "      <td>0</td>\n",
       "      <td>0</td>\n",
       "      <td>[{'championId': -1, 'pickTurn': 1}, {'champion...</td>\n",
       "      <td>1323.0</td>\n",
       "    </tr>\n",
       "    <tr>\n",
       "      <th>0</th>\n",
       "      <td>100</td>\n",
       "      <td>Win</td>\n",
       "      <td>False</td>\n",
       "      <td>False</td>\n",
       "      <td>False</td>\n",
       "      <td>False</td>\n",
       "      <td>True</td>\n",
       "      <td>True</td>\n",
       "      <td>4</td>\n",
       "      <td>0</td>\n",
       "      <td>0</td>\n",
       "      <td>2</td>\n",
       "      <td>0</td>\n",
       "      <td>2</td>\n",
       "      <td>0</td>\n",
       "      <td>[{'championId': 523, 'pickTurn': 1}, {'champio...</td>\n",
       "      <td>1317.0</td>\n",
       "    </tr>\n",
       "    <tr>\n",
       "      <th>0</th>\n",
       "      <td>100</td>\n",
       "      <td>Fail</td>\n",
       "      <td>False</td>\n",
       "      <td>False</td>\n",
       "      <td>False</td>\n",
       "      <td>False</td>\n",
       "      <td>False</td>\n",
       "      <td>False</td>\n",
       "      <td>0</td>\n",
       "      <td>0</td>\n",
       "      <td>0</td>\n",
       "      <td>0</td>\n",
       "      <td>0</td>\n",
       "      <td>0</td>\n",
       "      <td>0</td>\n",
       "      <td>[{'championId': 110, 'pickTurn': 1}, {'champio...</td>\n",
       "      <td>932.0</td>\n",
       "    </tr>\n",
       "    <tr>\n",
       "      <th>0</th>\n",
       "      <td>100</td>\n",
       "      <td>Fail</td>\n",
       "      <td>False</td>\n",
       "      <td>False</td>\n",
       "      <td>False</td>\n",
       "      <td>True</td>\n",
       "      <td>True</td>\n",
       "      <td>False</td>\n",
       "      <td>2</td>\n",
       "      <td>0</td>\n",
       "      <td>1</td>\n",
       "      <td>1</td>\n",
       "      <td>0</td>\n",
       "      <td>0</td>\n",
       "      <td>0</td>\n",
       "      <td>[{'championId': 523, 'pickTurn': 1}, {'champio...</td>\n",
       "      <td>2098.0</td>\n",
       "    </tr>\n",
       "    <tr>\n",
       "      <th>0</th>\n",
       "      <td>100</td>\n",
       "      <td>Win</td>\n",
       "      <td>True</td>\n",
       "      <td>True</td>\n",
       "      <td>True</td>\n",
       "      <td>True</td>\n",
       "      <td>True</td>\n",
       "      <td>True</td>\n",
       "      <td>11</td>\n",
       "      <td>3</td>\n",
       "      <td>2</td>\n",
       "      <td>2</td>\n",
       "      <td>0</td>\n",
       "      <td>2</td>\n",
       "      <td>0</td>\n",
       "      <td>[{'championId': 30, 'pickTurn': 1}, {'champion...</td>\n",
       "      <td>2344.0</td>\n",
       "    </tr>\n",
       "  </tbody>\n",
       "</table>\n",
       "</div>"
      ],
      "text/plain": [
       "   teamId   win  firstBlood  firstTower  firstInhibitor  firstBaron  \\\n",
       "0     100  Fail        True       False           False       False   \n",
       "0     100   Win       False       False           False       False   \n",
       "0     100  Fail       False       False           False       False   \n",
       "0     100  Fail       False       False           False        True   \n",
       "0     100   Win        True        True            True        True   \n",
       "\n",
       "   firstDragon  firstRiftHerald  towerKills  inhibitorKills  baronKills  \\\n",
       "0        False            False           0               0           0   \n",
       "0         True             True           4               0           0   \n",
       "0        False            False           0               0           0   \n",
       "0         True            False           2               0           1   \n",
       "0         True             True          11               3           2   \n",
       "\n",
       "   dragonKills  vilemawKills  riftHeraldKills  dominionVictoryScore  \\\n",
       "0            0             0                0                     0   \n",
       "0            2             0                2                     0   \n",
       "0            0             0                0                     0   \n",
       "0            1             0                0                     0   \n",
       "0            2             0                2                     0   \n",
       "\n",
       "                                                bans  gameDuration  \n",
       "0  [{'championId': -1, 'pickTurn': 1}, {'champion...        1323.0  \n",
       "0  [{'championId': 523, 'pickTurn': 1}, {'champio...        1317.0  \n",
       "0  [{'championId': 110, 'pickTurn': 1}, {'champio...         932.0  \n",
       "0  [{'championId': 523, 'pickTurn': 1}, {'champio...        2098.0  \n",
       "0  [{'championId': 30, 'pickTurn': 1}, {'champion...        2344.0  "
      ]
     },
     "execution_count": 11,
     "metadata": {},
     "output_type": "execute_result"
    }
   ],
   "source": [
    "game_df = pd.concat([team_a,team_b],axis=0)\n",
    "game_df.head()"
   ]
  },
  {
   "cell_type": "code",
   "execution_count": 12,
   "metadata": {},
   "outputs": [],
   "source": [
    "#분석의 용이성을 위해서 타겟 데이터를 제외한 범주형 데이터를 인코딩\n",
    "'''\n",
    "True : 1\n",
    "False : 0\n",
    "'''\n",
    "tf_mapping = {True:1,False:0}\n",
    "bool_column = game_df.select_dtypes('bool').columns.tolist()\n",
    "\n",
    "for i in bool_column:\n",
    "    game_df[i] = game_df[i].map(tf_mapping)\n",
    "    \n",
    "wl_mapping = {'Win':'Win','Fail':'Lose'}\n",
    "game_df['win'] = game_df['win'].map(wl_mapping)"
   ]
  },
  {
   "cell_type": "markdown",
   "metadata": {},
   "source": [
    "EDA (탐색적 자료 분석) - Exploratory Data Analysis"
   ]
  },
  {
   "cell_type": "markdown",
   "metadata": {},
   "source": [
    "### 3.0 통계치 확인\n",
    "- 승리팀 & 패배팀"
   ]
  },
  {
   "cell_type": "markdown",
   "metadata": {},
   "source": [
    "### 승리팀"
   ]
  },
  {
   "cell_type": "code",
   "execution_count": 11,
   "metadata": {},
   "outputs": [
    {
     "data": {
      "text/html": [
       "<div>\n",
       "<style scoped>\n",
       "    .dataframe tbody tr th:only-of-type {\n",
       "        vertical-align: middle;\n",
       "    }\n",
       "\n",
       "    .dataframe tbody tr th {\n",
       "        vertical-align: top;\n",
       "    }\n",
       "\n",
       "    .dataframe thead th {\n",
       "        text-align: right;\n",
       "    }\n",
       "</style>\n",
       "<table border=\"1\" class=\"dataframe\">\n",
       "  <thead>\n",
       "    <tr style=\"text-align: right;\">\n",
       "      <th></th>\n",
       "      <th>towerKills</th>\n",
       "      <th>inhibitorKills</th>\n",
       "      <th>baronKills</th>\n",
       "      <th>dragonKills</th>\n",
       "    </tr>\n",
       "  </thead>\n",
       "  <tbody>\n",
       "    <tr>\n",
       "      <th>count</th>\n",
       "      <td>145796.000000</td>\n",
       "      <td>145796.000000</td>\n",
       "      <td>145796.000000</td>\n",
       "      <td>145796.000000</td>\n",
       "    </tr>\n",
       "    <tr>\n",
       "      <th>mean</th>\n",
       "      <td>6.689168</td>\n",
       "      <td>1.188976</td>\n",
       "      <td>0.494581</td>\n",
       "      <td>1.959937</td>\n",
       "    </tr>\n",
       "    <tr>\n",
       "      <th>std</th>\n",
       "      <td>2.698300</td>\n",
       "      <td>0.956853</td>\n",
       "      <td>0.620891</td>\n",
       "      <td>1.280124</td>\n",
       "    </tr>\n",
       "    <tr>\n",
       "      <th>min</th>\n",
       "      <td>0.000000</td>\n",
       "      <td>0.000000</td>\n",
       "      <td>0.000000</td>\n",
       "      <td>0.000000</td>\n",
       "    </tr>\n",
       "    <tr>\n",
       "      <th>25%</th>\n",
       "      <td>4.000000</td>\n",
       "      <td>1.000000</td>\n",
       "      <td>0.000000</td>\n",
       "      <td>1.000000</td>\n",
       "    </tr>\n",
       "    <tr>\n",
       "      <th>50%</th>\n",
       "      <td>7.000000</td>\n",
       "      <td>1.000000</td>\n",
       "      <td>0.000000</td>\n",
       "      <td>2.000000</td>\n",
       "    </tr>\n",
       "    <tr>\n",
       "      <th>75%</th>\n",
       "      <td>9.000000</td>\n",
       "      <td>2.000000</td>\n",
       "      <td>1.000000</td>\n",
       "      <td>3.000000</td>\n",
       "    </tr>\n",
       "    <tr>\n",
       "      <th>max</th>\n",
       "      <td>11.000000</td>\n",
       "      <td>10.000000</td>\n",
       "      <td>5.000000</td>\n",
       "      <td>7.000000</td>\n",
       "    </tr>\n",
       "  </tbody>\n",
       "</table>\n",
       "</div>"
      ],
      "text/plain": [
       "          towerKills  inhibitorKills     baronKills    dragonKills\n",
       "count  145796.000000   145796.000000  145796.000000  145796.000000\n",
       "mean        6.689168        1.188976       0.494581       1.959937\n",
       "std         2.698300        0.956853       0.620891       1.280124\n",
       "min         0.000000        0.000000       0.000000       0.000000\n",
       "25%         4.000000        1.000000       0.000000       1.000000\n",
       "50%         7.000000        1.000000       0.000000       2.000000\n",
       "75%         9.000000        2.000000       1.000000       3.000000\n",
       "max        11.000000       10.000000       5.000000       7.000000"
      ]
     },
     "execution_count": 11,
     "metadata": {},
     "output_type": "execute_result"
    }
   ],
   "source": [
    "game_df[game_df['win']=='Win'].describe()[['towerKills','inhibitorKills','baronKills','dragonKills']]"
   ]
  },
  {
   "cell_type": "markdown",
   "metadata": {},
   "source": [
    "### 패배팀"
   ]
  },
  {
   "cell_type": "code",
   "execution_count": 12,
   "metadata": {},
   "outputs": [
    {
     "data": {
      "text/html": [
       "<div>\n",
       "<style scoped>\n",
       "    .dataframe tbody tr th:only-of-type {\n",
       "        vertical-align: middle;\n",
       "    }\n",
       "\n",
       "    .dataframe tbody tr th {\n",
       "        vertical-align: top;\n",
       "    }\n",
       "\n",
       "    .dataframe thead th {\n",
       "        text-align: right;\n",
       "    }\n",
       "</style>\n",
       "<table border=\"1\" class=\"dataframe\">\n",
       "  <thead>\n",
       "    <tr style=\"text-align: right;\">\n",
       "      <th></th>\n",
       "      <th>towerKills</th>\n",
       "      <th>inhibitorKills</th>\n",
       "      <th>baronKills</th>\n",
       "      <th>dragonKills</th>\n",
       "    </tr>\n",
       "  </thead>\n",
       "  <tbody>\n",
       "    <tr>\n",
       "      <th>count</th>\n",
       "      <td>145782.000000</td>\n",
       "      <td>145782.000000</td>\n",
       "      <td>145782.000000</td>\n",
       "      <td>145782.000000</td>\n",
       "    </tr>\n",
       "    <tr>\n",
       "      <th>mean</th>\n",
       "      <td>1.854303</td>\n",
       "      <td>0.136176</td>\n",
       "      <td>0.109643</td>\n",
       "      <td>0.816267</td>\n",
       "    </tr>\n",
       "    <tr>\n",
       "      <th>std</th>\n",
       "      <td>1.980308</td>\n",
       "      <td>0.475756</td>\n",
       "      <td>0.354936</td>\n",
       "      <td>1.015968</td>\n",
       "    </tr>\n",
       "    <tr>\n",
       "      <th>min</th>\n",
       "      <td>0.000000</td>\n",
       "      <td>0.000000</td>\n",
       "      <td>0.000000</td>\n",
       "      <td>0.000000</td>\n",
       "    </tr>\n",
       "    <tr>\n",
       "      <th>25%</th>\n",
       "      <td>0.000000</td>\n",
       "      <td>0.000000</td>\n",
       "      <td>0.000000</td>\n",
       "      <td>0.000000</td>\n",
       "    </tr>\n",
       "    <tr>\n",
       "      <th>50%</th>\n",
       "      <td>1.000000</td>\n",
       "      <td>0.000000</td>\n",
       "      <td>0.000000</td>\n",
       "      <td>0.000000</td>\n",
       "    </tr>\n",
       "    <tr>\n",
       "      <th>75%</th>\n",
       "      <td>3.000000</td>\n",
       "      <td>0.000000</td>\n",
       "      <td>0.000000</td>\n",
       "      <td>1.000000</td>\n",
       "    </tr>\n",
       "    <tr>\n",
       "      <th>max</th>\n",
       "      <td>11.000000</td>\n",
       "      <td>9.000000</td>\n",
       "      <td>4.000000</td>\n",
       "      <td>6.000000</td>\n",
       "    </tr>\n",
       "  </tbody>\n",
       "</table>\n",
       "</div>"
      ],
      "text/plain": [
       "          towerKills  inhibitorKills     baronKills    dragonKills\n",
       "count  145782.000000   145782.000000  145782.000000  145782.000000\n",
       "mean        1.854303        0.136176       0.109643       0.816267\n",
       "std         1.980308        0.475756       0.354936       1.015968\n",
       "min         0.000000        0.000000       0.000000       0.000000\n",
       "25%         0.000000        0.000000       0.000000       0.000000\n",
       "50%         1.000000        0.000000       0.000000       0.000000\n",
       "75%         3.000000        0.000000       0.000000       1.000000\n",
       "max        11.000000        9.000000       4.000000       6.000000"
      ]
     },
     "execution_count": 12,
     "metadata": {},
     "output_type": "execute_result"
    }
   ],
   "source": [
    "game_df[game_df['win']=='Lose'].describe()[['towerKills','inhibitorKills','baronKills','dragonKills']]"
   ]
  },
  {
   "cell_type": "markdown",
   "metadata": {},
   "source": [
    "### 3.1. 범주형 시각화"
   ]
  },
  {
   "cell_type": "code",
   "execution_count": 13,
   "metadata": {},
   "outputs": [],
   "source": [
    "def first_valid_visualize(df,target,variable):\n",
    "    sns.factorplot(target,variable,data=df)\n",
    "    plt.title(variable+' winrate')\n",
    "    #plt.xticks(df[target])\n",
    "    plt.show()"
   ]
  },
  {
   "cell_type": "markdown",
   "metadata": {},
   "source": [
    "#### factorplot은 어떤 종속변수에 대하여 연속형 변수나 정수형변수의 확률값을 알려줍니다."
   ]
  },
  {
   "cell_type": "markdown",
   "metadata": {},
   "source": [
    "#### firstBlood"
   ]
  },
  {
   "cell_type": "code",
   "execution_count": 111,
   "metadata": {},
   "outputs": [
    {
     "data": {
      "image/png": "[encoded data removed]",
      "text/plain": [
       "<Figure size 360x360 with 1 Axes>"
      ]
     },
     "metadata": {
      "needs_background": "light"
     },
     "output_type": "display_data"
    }
   ],
   "source": [
    "first_valid_visualize(game_df,'win','firstBlood')\n",
    "plt.show()"
   ]
  },
  {
   "cell_type": "markdown",
   "metadata": {},
   "source": [
    "#### firstTower"
   ]
  },
  {
   "cell_type": "code",
   "execution_count": 20,
   "metadata": {},
   "outputs": [
    {
     "data": {
      "image/png": "[encoded data removed]",
      "text/plain": [
       "<Figure size 360x360 with 1 Axes>"
      ]
     },
     "metadata": {
      "needs_background": "light"
     },
     "output_type": "display_data"
    }
   ],
   "source": [
    "first_valid_visualize(game_df,'win','firstTower')\n",
    "plt.show()"
   ]
  },
  {
   "cell_type": "code",
   "execution_count": 21,
   "metadata": {},
   "outputs": [
    {
     "data": {
      "image/png": "[encoded data removed]",
      "text/plain": [
       "<Figure size 360x360 with 1 Axes>"
      ]
     },
     "metadata": {
      "needs_background": "light"
     },
     "output_type": "display_data"
    }
   ],
   "source": [
    "first_valid_visualize(game_df,'win','firstBaron')\n",
    "plt.show()"
   ]
  },
  {
   "cell_type": "code",
   "execution_count": 22,
   "metadata": {},
   "outputs": [
    {
     "data": {
      "image/png": "[encoded data removed]",
      "text/plain": [
       "<Figure size 360x360 with 1 Axes>"
      ]
     },
     "metadata": {
      "needs_background": "light"
     },
     "output_type": "display_data"
    }
   ],
   "source": [
    "first_valid_visualize(game_df,'win','firstInhibitor')\n",
    "plt.show()"
   ]
  },
  {
   "cell_type": "code",
   "execution_count": 25,
   "metadata": {},
   "outputs": [
    {
     "data": {
      "image/png": "[encoded data removed]",
      "text/plain": [
       "<Figure size 360x360 with 1 Axes>"
      ]
     },
     "metadata": {
      "needs_background": "light"
     },
     "output_type": "display_data"
    }
   ],
   "source": [
    "first_valid_visualize(game_df,'win','gameDuration')\n",
    "plt.show()"
   ]
  },
  {
   "cell_type": "code",
   "execution_count": 26,
   "metadata": {},
   "outputs": [
    {
     "data": {
      "image/png": "[encoded data removed]",
      "text/plain": [
       "<Figure size 360x360 with 1 Axes>"
      ]
     },
     "metadata": {
      "needs_background": "light"
     },
     "output_type": "display_data"
    }
   ],
   "source": [
    "first_valid_visualize(game_df,'win','towerKills')\n",
    "plt.show()"
   ]
  },
  {
   "cell_type": "code",
   "execution_count": 27,
   "metadata": {},
   "outputs": [
    {
     "data": {
      "image/png": "[encoded data removed]",
      "text/plain": [
       "<Figure size 360x360 with 1 Axes>"
      ]
     },
     "metadata": {
      "needs_background": "light"
     },
     "output_type": "display_data"
    }
   ],
   "source": [
    "first_valid_visualize(game_df,'win','firstDragon')\n",
    "plt.show()"
   ]
  },
  {
   "cell_type": "code",
   "execution_count": 145,
   "metadata": {},
   "outputs": [
    {
     "data": {
      "image/png": "[encoded data removed]",
      "text/plain": [
       "<Figure size 360x360 with 1 Axes>"
      ]
     },
     "metadata": {
      "needs_background": "light"
     },
     "output_type": "display_data"
    }
   ],
   "source": [
    "first_valid_visualize(game_df,'win','firstRiftHerald')\n",
    "plt.show()"
   ]
  },
  {
   "cell_type": "markdown",
   "metadata": {},
   "source": [
    "### 3.2. 경기 시간 segment별 EDA"
   ]
  },
  {
   "cell_type": "markdown",
   "metadata": {},
   "source": [
    "#### 게임에 걸린 시간별로 데이터를 segment화"
   ]
  },
  {
   "cell_type": "markdown",
   "metadata": {},
   "source": [
    "##### 게임 시간을 20분 이하 게임, 30분 이하 게임, 30분 이상게임, 40분 이상 게임 의 4개의 세그먼트로 나눔"
   ]
  },
  {
   "cell_type": "code",
   "execution_count": null,
   "metadata": {},
   "outputs": [],
   "source": [
    "#n_tile로 게임시간을 분위수로 파악\n",
    "#part1\n",
    "game_df['game_time'] = game_df['gameDuration']/60\n",
    "\n",
    "game_part1 = game_df[game_df['game_time']>=30].sort_values('win')\n",
    "game_part2 = game_df[game_df['game_time']>=40].sort_values('win')\n",
    "game_part3 = game_df[game_df['game_time']<30].sort_values('win')\n",
    "game_part4 = game_df[game_df['game_time']<20].sort_values('win')\n"
   ]
  },
  {
   "cell_type": "markdown",
   "metadata": {},
   "source": [
    "##### 시각화 코드"
   ]
  },
  {
   "cell_type": "code",
   "execution_count": 168,
   "metadata": {},
   "outputs": [],
   "source": [
    "def first_time_ratio(target,variable):\n",
    "    global game_part1, game_part2, game_part3, game_part4\n",
    "    \n",
    "    sns.factorplot(target, variable, sharey=False,data=game_part1, size=4, aspect=3, legend_out=False)\n",
    "    sns.factorplot(target, variable, sharey=False,data=game_part2, size=4, aspect=3, legend_out=False)\n",
    "    sns.factorplot(target, variable, sharey=False,data=game_part3, size=4, aspect=3, legend_out=False)\n",
    "    sns.factorplot(target, variable, sharey=False,data=game_part4, size=4, aspect=3, legend_out=False)"
   ]
  },
  {
   "cell_type": "markdown",
   "metadata": {},
   "source": [
    "##### 게임 시간대별 승리팀과 패배팀의 firstBlood 비율"
   ]
  },
  {
   "cell_type": "code",
   "execution_count": 169,
   "metadata": {},
   "outputs": [
    {
     "data": {
      "image/png": "[encoded data removed]",
      "text/plain": [
       "<Figure size 864x288 with 1 Axes>"
      ]
     },
     "metadata": {
      "needs_background": "light"
     },
     "output_type": "display_data"
    },
    {
     "data": {
      "image/png": "[encoded data removed]",
      "text/plain": [
       "<Figure size 864x288 with 1 Axes>"
      ]
     },
     "metadata": {
      "needs_background": "light"
     },
     "output_type": "display_data"
    },
    {
     "data": {
      "image/png": "[encoded data removed]",
      "text/plain": [
       "<Figure size 864x288 with 1 Axes>"
      ]
     },
     "metadata": {
      "needs_background": "light"
     },
     "output_type": "display_data"
    },
    {
     "data": {
      "image/png": "[encoded data removed]",
      "text/plain": [
       "<Figure size 864x288 with 1 Axes>"
      ]
     },
     "metadata": {
      "needs_background": "light"
     },
     "output_type": "display_data"
    }
   ],
   "source": [
    "first_time_ratio('win','firstBlood')"
   ]
  },
  {
   "cell_type": "markdown",
   "metadata": {},
   "source": [
    "# 연속형 데이터 EDA"
   ]
  },
  {
   "cell_type": "code",
   "execution_count": 119,
   "metadata": {},
   "outputs": [
    {
     "data": {
      "image/png": "[encoded data removed]",
      "text/plain": [
       "<Figure size 360x360 with 1 Axes>"
      ]
     },
     "metadata": {
      "needs_background": "light"
     },
     "output_type": "display_data"
    }
   ],
   "source": [
    "first_valid_visualize(game_df,'win','towerKills')\n",
    "plt.show()"
   ]
  },
  {
   "cell_type": "markdown",
   "metadata": {},
   "source": [
    "## 경기 시간 segment 데이터별 EDA"
   ]
  },
  {
   "cell_type": "code",
   "execution_count": 120,
   "metadata": {},
   "outputs": [],
   "source": [
    "def sequence_var_inf(variable):\n",
    "    global game_part1, game_part2, game_part3, game_part4\n",
    "    \n",
    "    value1 = game_part4[variable].value_counts().keys().tolist()\n",
    "    value2 = game_part3[variable].value_counts().keys().tolist()\n",
    "    value3 = game_part1[variable].value_counts().keys().tolist()\n",
    "    value4 = game_part2[variable].value_counts().keys().tolist()\n",
    "    \n",
    "    value1.sort()\n",
    "    value2.sort()\n",
    "    value3.sort()\n",
    "    value4.sort()\n",
    "    print('=============================')\n",
    "    print('GameTime < 20 minute')\n",
    "    print('=============================\\n')\n",
    "    for i in value1:\n",
    "        try:\n",
    "            a = game_part4[game_part4[variable]==i]['win'].value_counts().values[0]\n",
    "        except:\n",
    "            a = 0\n",
    "        try:\n",
    "            b = game_part4[game_part4[variable]==i]['win'].value_counts().values[1]\n",
    "        except:\n",
    "            b = 0\n",
    "        print(variable+' 변수가 '+str(i)+' 일 때\\n Win : {}\\n Lose : {}\\n'.format(a,b))\n",
    "    \n",
    "    print('=============================')\n",
    "    print('GameTime < 30 minute')\n",
    "    print('=============================\\n')\n",
    "    for i in value2:\n",
    "        try:\n",
    "            a = game_part3[game_part3[variable]==i]['win'].value_counts().values[0]\n",
    "        except:\n",
    "            a = 0\n",
    "        try:\n",
    "            b = game_part3[game_part3[variable]==i]['win'].value_counts().values[1]\n",
    "        except:\n",
    "            b = 0\n",
    "        print(variable+' 변수가 '+str(i)+' 일 때\\n Win : {}\\n Lose : {}\\n'.format(a,b))\n",
    "        \n",
    "    print('=============================')\n",
    "    print('GameTime > 30 minute')\n",
    "    print('=============================\\n')\n",
    "    for i in value3:\n",
    "        try:\n",
    "            a = game_part1[game_part1[variable]==i]['win'].value_counts().values[0]\n",
    "        except:\n",
    "            a = 0\n",
    "        try:\n",
    "            b = game_part1[game_part1[variable]==i]['win'].value_counts().values[1]\n",
    "        except:\n",
    "            b = 0\n",
    "        print(variable+' 변수가 '+str(i)+' 일 때\\n Win : {}\\n Lose : {}\\n'.format(a,b))\n",
    "        \n",
    "    print('=============================')\n",
    "    print('GameTime > 40 minute')\n",
    "    print('=============================\\n')\n",
    "    for i in value4:\n",
    "        try:\n",
    "            a = game_part2[game_part2[variable]==i]['win'].value_counts().values[0]\n",
    "        except:\n",
    "            a = 0\n",
    "        try:\n",
    "            b = game_part2[game_part2[variable]==i]['win'].value_counts().values[1]\n",
    "        except:\n",
    "            b = 0\n",
    "        print(variable+' 변수가 '+str(i)+' 일 때\\n Win : {}\\n Lose : {}\\n'.format(a,b))"
   ]
  },
  {
   "cell_type": "markdown",
   "metadata": {},
   "source": [
    "## 결과"
   ]
  },
  {
   "cell_type": "code",
   "execution_count": 121,
   "metadata": {},
   "outputs": [
    {
     "name": "stdout",
     "output_type": "stream",
     "text": [
      "=============================\n",
      "GameTime < 20 minute\n",
      "=============================\n",
      "\n",
      "dragonKills 변수가 0 일 때\n",
      " Win : 36873\n",
      " Lose : 15975\n",
      "\n",
      "dragonKills 변수가 1 일 때\n",
      " Win : 14362\n",
      " Lose : 7590\n",
      "\n",
      "dragonKills 변수가 2 일 때\n",
      " Win : 13543\n",
      " Lose : 1192\n",
      "\n",
      "dragonKills 변수가 3 일 때\n",
      " Win : 1715\n",
      " Lose : 172\n",
      "\n",
      "dragonKills 변수가 4 일 때\n",
      " Win : 271\n",
      " Lose : 28\n",
      "\n",
      "dragonKills 변수가 5 일 때\n",
      " Win : 3\n",
      " Lose : 0\n",
      "\n",
      "=============================\n",
      "GameTime < 30 minute\n",
      "=============================\n",
      "\n",
      "dragonKills 변수가 0 일 때\n",
      " Win : 70030\n",
      " Lose : 23769\n",
      "\n",
      "dragonKills 변수가 1 일 때\n",
      " Win : 30667\n",
      " Lose : 24891\n",
      "\n",
      "dragonKills 변수가 2 일 때\n",
      " Win : 36603\n",
      " Lose : 12164\n",
      "\n",
      "dragonKills 변수가 3 일 때\n",
      " Win : 23298\n",
      " Lose : 3291\n",
      "\n",
      "dragonKills 변수가 4 일 때\n",
      " Win : 7848\n",
      " Lose : 337\n",
      "\n",
      "dragonKills 변수가 5 일 때\n",
      " Win : 103\n",
      " Lose : 9\n",
      "\n",
      "=============================\n",
      "GameTime > 30 minute\n",
      "=============================\n",
      "\n",
      "dragonKills 변수가 0 일 때\n",
      " Win : 3927\n",
      " Lose : 593\n",
      "\n",
      "dragonKills 변수가 1 일 때\n",
      " Win : 8367\n",
      " Lose : 2636\n",
      "\n",
      "dragonKills 변수가 2 일 때\n",
      " Win : 8817\n",
      " Lose : 6877\n",
      "\n",
      "dragonKills 변수가 3 일 때\n",
      " Win : 8987\n",
      " Lose : 6119\n",
      "\n",
      "dragonKills 변수가 4 일 때\n",
      " Win : 8508\n",
      " Lose : 1902\n",
      "\n",
      "dragonKills 변수가 5 일 때\n",
      " Win : 1632\n",
      " Lose : 142\n",
      "\n",
      "dragonKills 변수가 6 일 때\n",
      " Win : 47\n",
      " Lose : 10\n",
      "\n",
      "dragonKills 변수가 7 일 때\n",
      " Win : 4\n",
      " Lose : 0\n",
      "\n",
      "=============================\n",
      "GameTime > 40 minute\n",
      "=============================\n",
      "\n",
      "dragonKills 변수가 0 일 때\n",
      " Win : 36\n",
      " Lose : 8\n",
      "\n",
      "dragonKills 변수가 1 일 때\n",
      " Win : 289\n",
      " Lose : 63\n",
      "\n",
      "dragonKills 변수가 2 일 때\n",
      " Win : 610\n",
      " Lose : 295\n",
      "\n",
      "dragonKills 변수가 3 일 때\n",
      " Win : 672\n",
      " Lose : 578\n",
      "\n",
      "dragonKills 변수가 4 일 때\n",
      " Win : 767\n",
      " Lose : 399\n",
      "\n",
      "dragonKills 변수가 5 일 때\n",
      " Win : 325\n",
      " Lose : 59\n",
      "\n",
      "dragonKills 변수가 6 일 때\n",
      " Win : 33\n",
      " Lose : 8\n",
      "\n",
      "dragonKills 변수가 7 일 때\n",
      " Win : 4\n",
      " Lose : 0\n",
      "\n"
     ]
    }
   ],
   "source": [
    "sequence_var_inf('dragonKills')"
   ]
  },
  {
   "cell_type": "markdown",
   "metadata": {},
   "source": [
    "## 각 segment별로 해당 수치형 데이터들이 이긴 팀과 진팀에 어떤 비율로 반영되어 있는지 확인"
   ]
  },
  {
   "cell_type": "code",
   "execution_count": 176,
   "metadata": {},
   "outputs": [],
   "source": [
    "def first_time_ratio(target,variable):\n",
    "    global game_part1, game_part2, game_part3, game_part4\n",
    "    \n",
    "    sns.factorplot(target, variable, sharey=False,data=game_part1, size=4, aspect=3, legend_out=False)\n",
    "    sns.factorplot(target, variable, sharey=False,data=game_part2, size=4, aspect=3, legend_out=False)\n",
    "    sns.factorplot(target, variable, sharey=False,data=game_part3, size=4, aspect=3, legend_out=False)\n",
    "    sns.factorplot(target, variable, sharey=False,data=game_part4, size=4, aspect=3, legend_out=False)"
   ]
  },
  {
   "cell_type": "markdown",
   "metadata": {},
   "source": [
    "## 결과"
   ]
  },
  {
   "cell_type": "code",
   "execution_count": 177,
   "metadata": {},
   "outputs": [
    {
     "data": {
      "image/png": "[encoded data removed]",
      "text/plain": [
       "<Figure size 864x288 with 1 Axes>"
      ]
     },
     "metadata": {
      "needs_background": "light"
     },
     "output_type": "display_data"
    },
    {
     "data": {
      "image/png": "[encoded data removed]",
      "text/plain": [
       "<Figure size 864x288 with 1 Axes>"
      ]
     },
     "metadata": {
      "needs_background": "light"
     },
     "output_type": "display_data"
    },
    {
     "data": {
      "image/png": "[encoded data removed]",
      "text/plain": [
       "<Figure size 864x288 with 1 Axes>"
      ]
     },
     "metadata": {
      "needs_background": "light"
     },
     "output_type": "display_data"
    },
    {
     "data": {
      "image/png": "[encoded data removed]",
      "text/plain": [
       "<Figure size 864x288 with 1 Axes>"
      ]
     },
     "metadata": {
      "needs_background": "light"
     },
     "output_type": "display_data"
    }
   ],
   "source": [
    "first_time_ratio('win','dragonKills')\n",
    "plt.show()"
   ]
  },
  {
   "cell_type": "code",
   "execution_count": 171,
   "metadata": {},
   "outputs": [
    {
     "data": {
      "image/png": "[encoded data removed]",
      "text/plain": [
       "<Figure size 864x288 with 1 Axes>"
      ]
     },
     "metadata": {
      "needs_background": "light"
     },
     "output_type": "display_data"
    },
    {
     "data": {
      "image/png": "[encoded data removed]",
      "text/plain": [
       "<Figure size 864x288 with 1 Axes>"
      ]
     },
     "metadata": {
      "needs_background": "light"
     },
     "output_type": "display_data"
    },
    {
     "data": {
      "image/png": "[encoded data removed]",
      "text/plain": [
       "<Figure size 864x288 with 1 Axes>"
      ]
     },
     "metadata": {
      "needs_background": "light"
     },
     "output_type": "display_data"
    },
    {
     "data": {
      "image/png": "[encoded data removed]",
      "text/plain": [
       "<Figure size 864x288 with 1 Axes>"
      ]
     },
     "metadata": {
      "needs_background": "light"
     },
     "output_type": "display_data"
    }
   ],
   "source": [
    "first_time_ratio('win','baronKills')\n",
    "plt.show()"
   ]
  },
  {
   "cell_type": "markdown",
   "metadata": {},
   "source": [
    "# 회기분석"
   ]
  },
  {
   "cell_type": "code",
   "execution_count": 179,
   "metadata": {},
   "outputs": [],
   "source": [
    "lol_df = lol_df.drop(index = team_a_error)\n",
    "\n",
    "team_a['gameDuration'] = lol_df['gameDuration'].tolist()\n",
    "team_b['gameDuration'] = lol_df['gameDuration'].tolist()\n",
    "\n",
    "lol_df['gameDuration'].index = range(len(lol_df))\n",
    "team_a['gameDuration'].index = range(len(team_a))\n",
    "team_b['gameDuration'].index = range(len(team_b))\n",
    "\n",
    "game_df = pd.concat([team_a,team_b],axis=0)\n",
    "\n",
    "#분석의 용이성을 위해서 타겟 데이터를 제외한 범주형 데이터를 인코딩\n",
    "'''\n",
    "True : 1\n",
    "False : 0\n",
    "'''\n",
    "tf_mapping = {True:1,False:0}\n",
    "bool_column = game_df.select_dtypes('bool').columns.tolist()\n",
    "\n",
    "for i in bool_column:\n",
    "    game_df[i] = game_df[i].map(tf_mapping)\n",
    "    \n",
    "wl_mapping = {'Win':'Win','Fail':'Lose'}\n",
    "game_df['win'] = game_df['win'].map(wl_mapping)\n",
    "\n",
    "game_df['game_time'] = game_df['gameDuration']/60\n",
    "\n",
    "game_df['win_encoding'] = game_df['win'].map({'Win':1,'Lose':0})"
   ]
  },
  {
   "cell_type": "code",
   "execution_count": 180,
   "metadata": {},
   "outputs": [
    {
     "data": {
      "text/html": [
       "<div>\n",
       "<style scoped>\n",
       "    .dataframe tbody tr th:only-of-type {\n",
       "        vertical-align: middle;\n",
       "    }\n",
       "\n",
       "    .dataframe tbody tr th {\n",
       "        vertical-align: top;\n",
       "    }\n",
       "\n",
       "    .dataframe thead th {\n",
       "        text-align: right;\n",
       "    }\n",
       "</style>\n",
       "<table border=\"1\" class=\"dataframe\">\n",
       "  <thead>\n",
       "    <tr style=\"text-align: right;\">\n",
       "      <th></th>\n",
       "      <th>win_encoding</th>\n",
       "    </tr>\n",
       "  </thead>\n",
       "  <tbody>\n",
       "    <tr>\n",
       "      <th>teamId</th>\n",
       "      <td>0.007456</td>\n",
       "    </tr>\n",
       "    <tr>\n",
       "      <th>firstBlood</th>\n",
       "      <td>0.205187</td>\n",
       "    </tr>\n",
       "    <tr>\n",
       "      <th>firstTower</th>\n",
       "      <td>0.466065</td>\n",
       "    </tr>\n",
       "    <tr>\n",
       "      <th>firstInhibitor</th>\n",
       "      <td>0.650580</td>\n",
       "    </tr>\n",
       "    <tr>\n",
       "      <th>firstBaron</th>\n",
       "      <td>0.369640</td>\n",
       "    </tr>\n",
       "    <tr>\n",
       "      <th>firstDragon</th>\n",
       "      <td>0.268575</td>\n",
       "    </tr>\n",
       "    <tr>\n",
       "      <th>firstRiftHerald</th>\n",
       "      <td>0.253565</td>\n",
       "    </tr>\n",
       "    <tr>\n",
       "      <th>towerKills</th>\n",
       "      <td>0.714565</td>\n",
       "    </tr>\n",
       "    <tr>\n",
       "      <th>inhibitorKills</th>\n",
       "      <td>0.571612</td>\n",
       "    </tr>\n",
       "    <tr>\n",
       "      <th>baronKills</th>\n",
       "      <td>0.355698</td>\n",
       "    </tr>\n",
       "    <tr>\n",
       "      <th>dragonKills</th>\n",
       "      <td>0.443502</td>\n",
       "    </tr>\n",
       "    <tr>\n",
       "      <th>vilemawKills</th>\n",
       "      <td>0.003086</td>\n",
       "    </tr>\n",
       "    <tr>\n",
       "      <th>riftHeraldKills</th>\n",
       "      <td>0.301562</td>\n",
       "    </tr>\n",
       "    <tr>\n",
       "      <th>dominionVictoryScore</th>\n",
       "      <td>NaN</td>\n",
       "    </tr>\n",
       "    <tr>\n",
       "      <th>gameDuration</th>\n",
       "      <td>-0.000132</td>\n",
       "    </tr>\n",
       "    <tr>\n",
       "      <th>game_time</th>\n",
       "      <td>-0.000132</td>\n",
       "    </tr>\n",
       "    <tr>\n",
       "      <th>win_encoding</th>\n",
       "      <td>1.000000</td>\n",
       "    </tr>\n",
       "  </tbody>\n",
       "</table>\n",
       "</div>"
      ],
      "text/plain": [
       "                      win_encoding\n",
       "teamId                    0.007456\n",
       "firstBlood                0.205187\n",
       "firstTower                0.466065\n",
       "firstInhibitor            0.650580\n",
       "firstBaron                0.369640\n",
       "firstDragon               0.268575\n",
       "firstRiftHerald           0.253565\n",
       "towerKills                0.714565\n",
       "inhibitorKills            0.571612\n",
       "baronKills                0.355698\n",
       "dragonKills               0.443502\n",
       "vilemawKills              0.003086\n",
       "riftHeraldKills           0.301562\n",
       "dominionVictoryScore           NaN\n",
       "gameDuration             -0.000132\n",
       "game_time                -0.000132\n",
       "win_encoding              1.000000"
      ]
     },
     "execution_count": 180,
     "metadata": {},
     "output_type": "execute_result"
    }
   ],
   "source": [
    "game_df.select_dtypes(['int64','float64']).corr()[['win_encoding']]"
   ]
  },
  {
   "cell_type": "markdown",
   "metadata": {},
   "source": [
    "## null 값 제거"
   ]
  },
  {
   "cell_type": "code",
   "execution_count": 181,
   "metadata": {},
   "outputs": [],
   "source": [
    "reg_df = game_df.drop(columns=['teamId','vilemawKills','dominionVictoryScore','win','bans','game_time'])\n",
    "reg_df = reg_df.dropna()\n",
    "reg_df['win_encoding'] = reg_df['win_encoding'].astype('int64')"
   ]
  },
  {
   "cell_type": "markdown",
   "metadata": {},
   "source": [
    "## 로지스틱 회귀분석 시행"
   ]
  },
  {
   "cell_type": "code",
   "execution_count": 184,
   "metadata": {},
   "outputs": [
    {
     "name": "stdout",
     "output_type": "stream",
     "text": [
      "Optimization terminated successfully.\n",
      "         Current function value: 0.513400\n",
      "         Iterations 6\n"
     ]
    }
   ],
   "source": [
    "logit = sm.Logit(reg_df[['win_encoding']],reg_df[reg_df.columns.tolist()[:-2]]) #로지스틱 회귀분석 시행\n",
    "result = logit.fit()"
   ]
  },
  {
   "cell_type": "markdown",
   "metadata": {},
   "source": [
    "## Summary"
   ]
  },
  {
   "cell_type": "code",
   "execution_count": 185,
   "metadata": {},
   "outputs": [
    {
     "data": {
      "text/html": [
       "<table class=\"simpletable\">\n",
       "<tr>\n",
       "        <td>Model:</td>              <td>Logit</td>      <td>Pseudo R-squared:</td>    <td>0.259</td>   \n",
       "</tr>\n",
       "<tr>\n",
       "  <td>Dependent Variable:</td>   <td>win_encoding</td>         <td>AIC:</td>        <td>299414.1321</td>\n",
       "</tr>\n",
       "<tr>\n",
       "         <td>Date:</td>        <td>2020-08-12 17:04</td>       <td>BIC:</td>        <td>299530.5458</td>\n",
       "</tr>\n",
       "<tr>\n",
       "   <td>No. Observations:</td>       <td>291578</td>       <td>Log-Likelihood:</td>  <td>-1.4970e+05</td>\n",
       "</tr>\n",
       "<tr>\n",
       "       <td>Df Model:</td>             <td>10</td>            <td>LL-Null:</td>      <td>-2.0211e+05</td>\n",
       "</tr>\n",
       "<tr>\n",
       "     <td>Df Residuals:</td>         <td>291567</td>        <td>LLR p-value:</td>      <td>0.0000</td>   \n",
       "</tr>\n",
       "<tr>\n",
       "      <td>Converged:</td>           <td>1.0000</td>           <td>Scale:</td>         <td>1.0000</td>   \n",
       "</tr>\n",
       "<tr>\n",
       "    <td>No. Iterations:</td>        <td>6.0000</td>              <td></td>               <td></td>      \n",
       "</tr>\n",
       "</table>\n",
       "<table class=\"simpletable\">\n",
       "<tr>\n",
       "         <td></td>          <th>Coef.</th>  <th>Std.Err.</th>     <th>z</th>     <th>P>|z|</th> <th>[0.025</th>  <th>0.975]</th> \n",
       "</tr>\n",
       "<tr>\n",
       "  <th>firstBlood</th>      <td>-0.8029</td>  <td>0.0089</td>  <td>-90.2044</td> <td>0.0000</td> <td>-0.8204</td> <td>-0.7855</td>\n",
       "</tr>\n",
       "<tr>\n",
       "  <th>firstTower</th>      <td>0.4403</td>   <td>0.0113</td>   <td>38.8014</td> <td>0.0000</td> <td>0.4181</td>  <td>0.4626</td> \n",
       "</tr>\n",
       "<tr>\n",
       "  <th>firstInhibitor</th>  <td>1.7972</td>   <td>0.0193</td>   <td>93.1805</td> <td>0.0000</td> <td>1.7594</td>  <td>1.8350</td> \n",
       "</tr>\n",
       "<tr>\n",
       "  <th>firstBaron</th>      <td>0.5161</td>   <td>0.0262</td>   <td>19.7318</td> <td>0.0000</td> <td>0.4649</td>  <td>0.5674</td> \n",
       "</tr>\n",
       "<tr>\n",
       "  <th>firstDragon</th>     <td>-0.1017</td>  <td>0.0120</td>   <td>-8.4690</td> <td>0.0000</td> <td>-0.1253</td> <td>-0.0782</td>\n",
       "</tr>\n",
       "<tr>\n",
       "  <th>firstRiftHerald</th> <td>-0.3925</td>  <td>0.0183</td>  <td>-21.4356</td> <td>0.0000</td> <td>-0.4284</td> <td>-0.3566</td>\n",
       "</tr>\n",
       "<tr>\n",
       "  <th>towerKills</th>      <td>0.1226</td>   <td>0.0032</td>   <td>38.8019</td> <td>0.0000</td> <td>0.1165</td>  <td>0.1288</td> \n",
       "</tr>\n",
       "<tr>\n",
       "  <th>inhibitorKills</th>  <td>0.2133</td>   <td>0.0122</td>   <td>17.5122</td> <td>0.0000</td> <td>0.1895</td>  <td>0.2372</td> \n",
       "</tr>\n",
       "<tr>\n",
       "  <th>baronKills</th>      <td>-0.1698</td>  <td>0.0215</td>   <td>-7.8833</td> <td>0.0000</td> <td>-0.2120</td> <td>-0.1276</td>\n",
       "</tr>\n",
       "<tr>\n",
       "  <th>dragonKills</th>     <td>-0.1067</td>  <td>0.0061</td>  <td>-17.4764</td> <td>0.0000</td> <td>-0.1187</td> <td>-0.0948</td>\n",
       "</tr>\n",
       "<tr>\n",
       "  <th>riftHeraldKills</th> <td>-0.0894</td>  <td>0.0135</td>   <td>-6.6020</td> <td>0.0000</td> <td>-0.1160</td> <td>-0.0629</td>\n",
       "</tr>\n",
       "</table>"
      ],
      "text/plain": [
       "<class 'statsmodels.iolib.summary2.Summary'>\n",
       "\"\"\"\n",
       "                          Results: Logit\n",
       "==================================================================\n",
       "Model:              Logit            Pseudo R-squared: 0.259      \n",
       "Dependent Variable: win_encoding     AIC:              299414.1321\n",
       "Date:               2020-08-12 17:04 BIC:              299530.5458\n",
       "No. Observations:   291578           Log-Likelihood:   -1.4970e+05\n",
       "Df Model:           10               LL-Null:          -2.0211e+05\n",
       "Df Residuals:       291567           LLR p-value:      0.0000     \n",
       "Converged:          1.0000           Scale:            1.0000     \n",
       "No. Iterations:     6.0000                                        \n",
       "------------------------------------------------------------------\n",
       "                   Coef.  Std.Err.    z     P>|z|   [0.025  0.975]\n",
       "------------------------------------------------------------------\n",
       "firstBlood        -0.8029   0.0089 -90.2044 0.0000 -0.8204 -0.7855\n",
       "firstTower         0.4403   0.0113  38.8014 0.0000  0.4181  0.4626\n",
       "firstInhibitor     1.7972   0.0193  93.1805 0.0000  1.7594  1.8350\n",
       "firstBaron         0.5161   0.0262  19.7318 0.0000  0.4649  0.5674\n",
       "firstDragon       -0.1017   0.0120  -8.4690 0.0000 -0.1253 -0.0782\n",
       "firstRiftHerald   -0.3925   0.0183 -21.4356 0.0000 -0.4284 -0.3566\n",
       "towerKills         0.1226   0.0032  38.8019 0.0000  0.1165  0.1288\n",
       "inhibitorKills     0.2133   0.0122  17.5122 0.0000  0.1895  0.2372\n",
       "baronKills        -0.1698   0.0215  -7.8833 0.0000 -0.2120 -0.1276\n",
       "dragonKills       -0.1067   0.0061 -17.4764 0.0000 -0.1187 -0.0948\n",
       "riftHeraldKills   -0.0894   0.0135  -6.6020 0.0000 -0.1160 -0.0629\n",
       "==================================================================\n",
       "\n",
       "\"\"\""
      ]
     },
     "execution_count": 185,
     "metadata": {},
     "output_type": "execute_result"
    }
   ],
   "source": [
    "result.summary2()"
   ]
  },
  {
   "cell_type": "markdown",
   "metadata": {},
   "source": [
    "## 해석"
   ]
  },
  {
   "cell_type": "code",
   "execution_count": 186,
   "metadata": {},
   "outputs": [
    {
     "name": "stdout",
     "output_type": "stream",
     "text": [
      "다른 변수가 고정되어 있으며, firstBlood 이 한단위 상승할 때 승리할 확률이 0.44800745384781115 배 증가한다.\n",
      "\n",
      "다른 변수가 고정되어 있으며, firstTower 이 한단위 상승할 때 승리할 확률이 1.5532065093890544 배 증가한다.\n",
      "\n",
      "다른 변수가 고정되어 있으며, firstInhibitor 이 한단위 상승할 때 승리할 확률이 6.03264158891065 배 증가한다.\n",
      "\n",
      "다른 변수가 고정되어 있으며, firstBaron 이 한단위 상승할 때 승리할 확률이 1.6755421263867605 배 증가한다.\n",
      "\n",
      "다른 변수가 고정되어 있으며, firstDragon 이 한단위 상승할 때 승리할 확률이 0.9032566525447728 배 증가한다.\n",
      "\n",
      "다른 변수가 고정되어 있으며, firstRiftHerald 이 한단위 상승할 때 승리할 확률이 0.6753679615689557 배 증가한다.\n",
      "\n",
      "다른 변수가 고정되어 있으며, towerKills 이 한단위 상승할 때 승리할 확률이 1.1304843540142444 배 증가한다.\n",
      "\n",
      "다른 변수가 고정되어 있으며, inhibitorKills 이 한단위 상승할 때 승리할 확률이 1.2378001756846007 배 증가한다.\n",
      "\n",
      "다른 변수가 고정되어 있으며, baronKills 이 한단위 상승할 때 승리할 확률이 0.8438477320711012 배 증가한다.\n",
      "\n",
      "다른 변수가 고정되어 있으며, dragonKills 이 한단위 상승할 때 승리할 확률이 0.8987709568655167 배 증가한다.\n",
      "\n",
      "다른 변수가 고정되어 있으며, riftHeraldKills 이 한단위 상승할 때 승리할 확률이 0.9144477857097907 배 증가한다.\n",
      "\n"
     ]
    }
   ],
   "source": [
    "for i in range(len(result.params)):\n",
    "    print('다른 변수가 고정되어 있으며, {} 이 한단위 상승할 때 승리할 확률이 {} 배 증가한다.\\n'.format(result.params.keys()[i],np.exp(result.params.values[i])))"
   ]
  },
  {
   "cell_type": "code",
   "execution_count": 189,
   "metadata": {},
   "outputs": [
    {
     "data": {
      "text/plain": [
       "firstBlood        -0.802945\n",
       "firstTower         0.440322\n",
       "firstInhibitor     1.797185\n",
       "firstBaron         0.516137\n",
       "firstDragon       -0.101749\n",
       "firstRiftHerald   -0.392498\n",
       "towerKills         0.122646\n",
       "inhibitorKills     0.213336\n",
       "baronKills        -0.169783\n",
       "dragonKills       -0.106727\n",
       "riftHeraldKills   -0.089435\n",
       "dtype: float64"
      ]
     },
     "execution_count": 189,
     "metadata": {},
     "output_type": "execute_result"
    }
   ],
   "source": [
    "result.params"
   ]
  },
  {
   "cell_type": "markdown",
   "metadata": {},
   "source": [
    "## 단일 모델 해석"
   ]
  },
  {
   "cell_type": "code",
   "execution_count": 190,
   "metadata": {},
   "outputs": [
    {
     "name": "stdout",
     "output_type": "stream",
     "text": [
      "Optimization terminated successfully.\n",
      "         Current function value: 0.682519\n",
      "         Iterations 4\n",
      "Optimization terminated successfully.\n",
      "         Current function value: 0.635922\n",
      "         Iterations 5\n",
      "Optimization terminated successfully.\n",
      "         Current function value: 0.540615\n",
      "         Iterations 6\n",
      "Optimization terminated successfully.\n",
      "         Current function value: 0.636501\n",
      "         Iterations 5\n",
      "Optimization terminated successfully.\n",
      "         Current function value: 0.672274\n",
      "         Iterations 4\n",
      "Optimization terminated successfully.\n",
      "         Current function value: 0.673320\n",
      "         Iterations 4\n",
      "Optimization terminated successfully.\n",
      "         Current function value: 0.585575\n",
      "         Iterations 5\n",
      "Optimization terminated successfully.\n",
      "         Current function value: 0.555584\n",
      "         Iterations 7\n",
      "Optimization terminated successfully.\n",
      "         Current function value: 0.639020\n",
      "         Iterations 6\n",
      "Optimization terminated successfully.\n",
      "         Current function value: 0.645485\n",
      "         Iterations 5\n",
      "Optimization terminated successfully.\n",
      "         Current function value: 0.665374\n",
      "         Iterations 5\n"
     ]
    }
   ],
   "source": [
    "reg_df2 = reg_df[reg_df.columns.tolist()[:-2] + ['win_encoding']]\n",
    "explain_var = reg_df2.columns.tolist()[:-1]\n",
    "\n",
    "coef_ls = []\n",
    "pvalue_ls = []\n",
    "exp_ls = []\n",
    "var_ls = []\n",
    "simple_model = pd.DataFrame()\n",
    "\n",
    "for i in explain_var:\n",
    "    logit = sm.Logit(reg_df2[['win_encoding']],reg_df[[i]]) #로지스틱 회귀분석 시행\n",
    "    result = logit.fit()\n",
    "    \n",
    "    coef_ls.append(result.params.values[0])\n",
    "    pvalue_ls.append(result.pvalues.values[0])\n",
    "    exp_ls.append(str(round(np.exp(result.params.values[0]),3)) + '배 증가')\n",
    "    var_ls.append(i)\n",
    "\n",
    "simple_model['variance'] = var_ls\n",
    "simple_model['coefficient'] = coef_ls\n",
    "simple_model['solution'] = exp_ls\n",
    "simple_model['p_value'] = pvalue_ls"
   ]
  },
  {
   "cell_type": "code",
   "execution_count": null,
   "metadata": {},
   "outputs": [],
   "source": []
  }
 ],
 "metadata": {
  "kernelspec": {
   "display_name": "Python 3",
   "language": "python",
   "name": "python3"
  },
  "language_info": {
   "codemirror_mode": {
    "name": "ipython",
    "version": 3
   },
   "file_extension": ".py",
   "mimetype": "text/x-python",
   "name": "python",
   "nbconvert_exporter": "python",
   "pygments_lexer": "ipython3",
   "version": "3.7.6"
  }
 },
 "nbformat": 4,
 "nbformat_minor": 4
}
